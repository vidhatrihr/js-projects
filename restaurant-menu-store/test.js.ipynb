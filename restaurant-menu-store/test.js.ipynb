{
 "cells": [
  {
   "cell_type": "code",
   "execution_count": 4,
   "metadata": {},
   "outputs": [
    {
     "name": "stdout",
     "output_type": "stream",
     "text": [
      "3\n",
      "2\n"
     ]
    }
   ],
   "source": [
    "let orders = {\n",
    "  'Masala Dosa': 2,\n",
    "  Samosa: 3,\n",
    "};\n",
    "\n",
    "console.log(order.Samosa);\n",
    "console.log(order['Masala Dosa']);\n"
   ]
  },
  {
   "cell_type": "code",
   "execution_count": 8,
   "metadata": {},
   "outputs": [
    {
     "name": "stdout",
     "output_type": "stream",
     "text": [
      "Masala Dosa 2\n",
      "Samosa 3\n"
     ]
    }
   ],
   "source": [
    "for (let key in orders) {\n",
    "  console.log(key, orders[key]);\n",
    "}\n"
   ]
  },
  {
   "cell_type": "code",
   "execution_count": null,
   "metadata": {},
   "outputs": [
    {
     "name": "stdout",
     "output_type": "stream",
     "text": [
      "xylo\n"
     ]
    }
   ],
   "source": [
    "let car = {\n",
    "  model: 'xylo',\n",
    "  color: 'white',\n",
    "};\n",
    "\n",
    "let model = 'color';\n",
    "\n",
    "console.log(car.model);\n",
    "console.log(car);\n",
    "\n"
   ]
  },
  {
   "cell_type": "code",
   "execution_count": null,
   "metadata": {},
   "outputs": [
    {
     "name": "stdout",
     "output_type": "stream",
     "text": [
      "50\n"
     ]
    }
   ],
   "source": [
    "let dishes = [\n",
    "  {\n",
    "    name: 'Masala Dosa',\n",
    "    desc: 'Thin, crispy pancake. Spicy potato inside.',\n",
    "    price: 120,\n",
    "    img: 'Masala Dosa.jpg',\n",
    "  },\n",
    "  {\n",
    "    name: 'Palak Paneer',\n",
    "    desc: 'Green spinach curry. Soft white cheese.',\n",
    "    price: 200,\n",
    "    img: 'Palak Paneer.jpg',\n",
    "  },\n",
    "  {\n",
    "    name: 'Vegetable Biryani',\n",
    "    desc: 'Spicy rice. Mixed vegetables. Very flavorful.',\n",
    "    price: 250,\n",
    "    img: 'Vegetable Biryani.jpg',\n",
    "  },\n",
    "  {\n",
    "    name: 'Dal Makhani',\n",
    "    desc: 'Soft black lentils. Cooked slowly. Very rich.',\n",
    "    price: 180,\n",
    "    img: 'Dal Makhani.jpg',\n",
    "  },\n",
    "  {\n",
    "    name: 'Samosa',\n",
    "    desc: 'Crispy outside. Spicy veggies inside. Triangle shape.',\n",
    "    price: 50,\n",
    "    img: 'Samosa.jpg',\n",
    "  },\n",
    "  {\n",
    "    name: 'Pakora',\n",
    "    desc: 'Small veggie balls. Fried. Crispy and spicy.',\n",
    "    price: 60,\n",
    "    img: 'Pakora.jpg',\n",
    "  },\n",
    "  {\n",
    "    name: 'Paneer Tikka',\n",
    "    desc: 'Grilled cheese pieces. Spicy and tangy.',\n",
    "    price: 150,\n",
    "    img: 'Paneer Tikka.jpg',\n",
    "  },\n",
    "  {\n",
    "    name: 'Lassi',\n",
    "    desc: 'Cold yogurt drink. Sweet or salty.',\n",
    "    price: 80,\n",
    "    img: 'Lassi.webp',\n",
    "  },\n",
    "  {\n",
    "    name: 'Masala Chai',\n",
    "    desc: 'Spiced tea with milk. Hot and sweet.',\n",
    "    price: 40,\n",
    "    img: 'Masala Chai.jpeg',\n",
    "  },\n",
    "  {\n",
    "    name: 'Mango Shake',\n",
    "    desc: 'Sweet mango drink. Smooth. Very tasty.',\n",
    "    price: 100,\n",
    "    img: 'Mango Shake.jpg',\n",
    "  },\n",
    "];\n",
    "\n",
    "let item = 'Samosa';\n",
    "\n",
    "for (let dish of dishes) {\n",
    "  if (dish.name == item) {\n",
    "    console.log(dish.price);\n",
    "  }\n",
    "}\n"
   ]
  },
  {
   "cell_type": "code",
   "execution_count": null,
   "metadata": {},
   "outputs": [],
   "source": []
  },
  {
   "cell_type": "code",
   "execution_count": 36,
   "metadata": {},
   "outputs": [
    {
     "name": "stdout",
     "output_type": "stream",
     "text": [
      "Masala Dosa 2 null\n",
      "Mango Shake 4 {\n",
      "  name: \"Mango Shake\",\n",
      "  desc: \"Sweet mango drink. Smooth. Very tasty.\",\n",
      "  price: 100,\n",
      "  img: \"Mango Shake.jpg\"\n",
      "}\n",
      "Samosa 3 null\n"
     ]
    }
   ],
   "source": [
    "let orders = {\n",
    "  'Masala Dosa': 2,\n",
    "  'Mango Shake': 4,\n",
    "  Samosa: 3,\n",
    "};\n",
    "\n",
    "for (let order in orders) {\n",
    "  let dish = null;\n",
    "  for (let d of dishes) {\n",
    "    if (order == d.name) {\n",
    "      dish = d;\n",
    "    }\n",
    "  }\n",
    "\n",
    "  console.log(order, orders[order], dish);\n",
    "}\n"
   ]
  },
  {
   "cell_type": "code",
   "execution_count": null,
   "metadata": {},
   "outputs": [
    {
     "name": "stdout",
     "output_type": "stream",
     "text": [
      "{\n",
      "  name: \"Mango Shake\",\n",
      "  desc: \"Sweet mango drink. Smooth. Very tasty.\",\n",
      "  price: 100,\n",
      "  img: \"Mango Shake.jpg\"\n",
      "}\n",
      "undefined\n"
     ]
    }
   ],
   "source": [
    "let dishes = {\n",
    "  'Masala Dosa': {\n",
    "    name: 'Masala Dosa',\n",
    "    desc: 'Thin, crispy pancake. Spicy potato inside.',\n",
    "    price: 120,\n",
    "    img: 'Masala Dosa.jpg',\n",
    "  },\n",
    "  'Palak Paneer': {\n",
    "    name: 'Palak Paneer',\n",
    "    desc: 'Green spinach curry. Soft white cheese.',\n",
    "    price: 200,\n",
    "    img: 'Palak Paneer.jpg',\n",
    "  },\n",
    "  'Vegetable Biryani': {\n",
    "    name: 'Vegetable Biryani',\n",
    "    desc: 'Spicy rice. Mixed vegetables. Very flavorful.',\n",
    "    price: 250,\n",
    "    img: 'Vegetable Biryani.jpg',\n",
    "  },\n",
    "  'Dal Makhani': {\n",
    "    name: 'Dal Makhani',\n",
    "    desc: 'Soft black lentils. Cooked slowly. Very rich.',\n",
    "    price: 180,\n",
    "    img: 'Dal Makhani.jpg',\n",
    "  },\n",
    "  Samosa: {\n",
    "    name: 'Samosa',\n",
    "    desc: 'Crispy outside. Spicy veggies inside. Triangle shape.',\n",
    "    price: 50,\n",
    "    img: 'Samosa.jpg',\n",
    "  },\n",
    "  Pakora: {\n",
    "    name: 'Pakora',\n",
    "    desc: 'Small veggie balls. Fried. Crispy and spicy.',\n",
    "    price: 60,\n",
    "    img: 'Pakora.jpg',\n",
    "  },\n",
    "  'Paneer Tikka': {\n",
    "    name: 'Paneer Tikka',\n",
    "    desc: 'Grilled cheese pieces. Spicy and tangy.',\n",
    "    price: 150,\n",
    "    img: 'Paneer Tikka.jpg',\n",
    "  },\n",
    "  Lassi: {\n",
    "    name: 'Lassi',\n",
    "    desc: 'Cold yogurt drink. Sweet or salty.',\n",
    "    price: 80,\n",
    "    img: 'Lassi.webp',\n",
    "  },\n",
    "  'Masala Chai': {\n",
    "    name: 'Masala Chai',\n",
    "    desc: 'Spiced tea with milk. Hot and sweet.',\n",
    "    price: 40,\n",
    "    img: 'Masala Chai.jpeg',\n",
    "  },\n",
    "  'Mango Shake': {\n",
    "    name: 'Mango Shake',\n",
    "    desc: 'Sweet mango drink. Smooth. Very tasty.',\n",
    "    price: 100,\n",
    "    img: 'Mango Shake.jpg',\n",
    "  },\n",
    "};\n",
    "\n",
    "console.log(dishes['Mango Shake']);\n",
    "console.log(dishes[0]);\n"
   ]
  },
  {
   "cell_type": "code",
   "execution_count": 59,
   "metadata": {},
   "outputs": [
    {
     "name": "stdout",
     "output_type": "stream",
     "text": [
      "{\n",
      "  name: \"Masala Chai\",\n",
      "  desc: \"Spiced tea with milk. Hot and sweet.\",\n",
      "  price: 40,\n",
      "  img: \"Masala Chai.jpeg\"\n",
      "}\n"
     ]
    }
   ],
   "source": [
    "let dishes = [\n",
    "  {\n",
    "    name: 'Masala Dosa',\n",
    "    desc: 'Thin, crispy pancake. Spicy potato inside.',\n",
    "    price: 120,\n",
    "    img: 'Masala Dosa.jpg',\n",
    "  },\n",
    "  {\n",
    "    name: 'Palak Paneer',\n",
    "    desc: 'Green spinach curry. Soft white cheese.',\n",
    "    price: 200,\n",
    "    img: 'Palak Paneer.jpg',\n",
    "  },\n",
    "  {\n",
    "    name: 'Vegetable Biryani',\n",
    "    desc: 'Spicy rice. Mixed vegetables. Very flavorful.',\n",
    "    price: 250,\n",
    "    img: 'Vegetable Biryani.jpg',\n",
    "  },\n",
    "  {\n",
    "    name: 'Dal Makhani',\n",
    "    desc: 'Soft black lentils. Cooked slowly. Very rich.',\n",
    "    price: 180,\n",
    "    img: 'Dal Makhani.jpg',\n",
    "  },\n",
    "  {\n",
    "    name: 'Samosa',\n",
    "    desc: 'Crispy outside. Spicy veggies inside. Triangle shape.',\n",
    "    price: 50,\n",
    "    img: 'Samosa.jpg',\n",
    "  },\n",
    "  {\n",
    "    name: 'Pakora',\n",
    "    desc: 'Small veggie balls. Fried. Crispy and spicy.',\n",
    "    price: 60,\n",
    "    img: 'Pakora.jpg',\n",
    "  },\n",
    "  {\n",
    "    name: 'Paneer Tikka',\n",
    "    desc: 'Grilled cheese pieces. Spicy and tangy.',\n",
    "    price: 150,\n",
    "    img: 'Paneer Tikka.jpg',\n",
    "  },\n",
    "  {\n",
    "    name: 'Lassi',\n",
    "    desc: 'Cold yogurt drink. Sweet or salty.',\n",
    "    price: 80,\n",
    "    img: 'Lassi.webp',\n",
    "  },\n",
    "  {\n",
    "    name: 'Masala Chai',\n",
    "    desc: 'Spiced tea with milk. Hot and sweet.',\n",
    "    price: 40,\n",
    "    img: 'Masala Chai.jpeg',\n",
    "  },\n",
    "  {\n",
    "    name: 'Mango Shake',\n",
    "    desc: 'Sweet mango drink. Smooth. Very tasty.',\n",
    "    price: 100,\n",
    "    img: 'Mango Shake.jpg',\n",
    "  },\n",
    "];\n",
    "\n",
    "for (let dish of dishes) {\n",
    "  if (dish.name == 'Masala Chai') console.log(dish);\n",
    "}\n"
   ]
  },
  {
   "cell_type": "code",
   "execution_count": 2,
   "metadata": {},
   "outputs": [],
   "source": [
    "let dishes = [\n",
    "  {\n",
    "    name: 'Lassi',\n",
    "    desc: 'Cold yogurt drink. Sweet or salty.',\n",
    "    price: 80,\n",
    "    img: 'Lassi.webp',\n",
    "  },\n",
    "  {\n",
    "    name: 'Masala Chai',\n",
    "    desc: 'Spiced tea with milk. Hot and sweet.',\n",
    "    price: 40,\n",
    "    img: 'Masala Chai.jpeg',\n",
    "  },\n",
    "  {\n",
    "    name: 'Mango Shake',\n",
    "    desc: 'Sweet mango drink. Smooth. Very tasty.',\n",
    "    price: 100,\n",
    "    img: 'Mango Shake.jpg',\n",
    "  },\n",
    "];\n"
   ]
  },
  {
   "cell_type": "code",
   "execution_count": 7,
   "metadata": {},
   "outputs": [
    {
     "name": "stdout",
     "output_type": "stream",
     "text": [
      "undefined\n",
      "{\n",
      "  name: \"Lassi\",\n",
      "  desc: \"Cold yogurt drink. Sweet or salty.\",\n",
      "  price: 80,\n",
      "  img: \"Lassi.webp\"\n",
      "}\n"
     ]
    }
   ],
   "source": [
    "console.log(dishes['Lassi']);\n",
    "console.log(dishes[0]);\n"
   ]
  },
  {
   "cell_type": "code",
   "execution_count": 12,
   "metadata": {},
   "outputs": [
    {
     "name": "stdout",
     "output_type": "stream",
     "text": [
      "{\n",
      "  name: \"Lassi\",\n",
      "  desc: \"Cold yogurt drink. Sweet or salty.\",\n",
      "  price: 80,\n",
      "  img: \"Lassi.webp\"\n",
      "}\n"
     ]
    }
   ],
   "source": [
    "let foundDish = null;\n",
    "\n",
    "for (let dish of dishes) {\n",
    "  if (dish.name === 'Lassi') {\n",
    "    foundDish = dish;\n",
    "  }\n",
    "}\n",
    "\n",
    "console.log(foundDish);\n"
   ]
  }
 ],
 "metadata": {
  "kernelspec": {
   "display_name": "Deno",
   "language": "typescript",
   "name": "deno"
  },
  "language_info": {
   "codemirror_mode": "typescript",
   "file_extension": ".ts",
   "mimetype": "text/x.typescript",
   "name": "typescript",
   "nbconvert_exporter": "script",
   "pygments_lexer": "typescript",
   "version": "5.6.2"
  }
 },
 "nbformat": 4,
 "nbformat_minor": 2
}
